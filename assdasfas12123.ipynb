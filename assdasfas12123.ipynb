{
  "nbformat": 4,
  "nbformat_minor": 0,
  "metadata": {
    "colab": {
      "provenance": [],
      "authorship_tag": "ABX9TyPTOVldy6rAVZBLSSaxcQGX",
      "include_colab_link": true
    },
    "kernelspec": {
      "name": "python3",
      "display_name": "Python 3"
    },
    "language_info": {
      "name": "python"
    }
  },
  "cells": [
    {
      "cell_type": "markdown",
      "metadata": {
        "id": "view-in-github",
        "colab_type": "text"
      },
      "source": [
        "<a href=\"https://colab.research.google.com/github/oteroparrar/telegram_colab/blob/main/Untitled6.ipynb\" target=\"_parent\"><img src=\"https://colab.research.google.com/assets/colab-badge.svg\" alt=\"Open In Colab\"/></a>"
      ]
    },
    {
      "cell_type": "code",
      "source": [
        "!sudo apt install python3 python3-pip git"
      ],
      "metadata": {
        "id": "_Le1GMiopToh"
      },
      "execution_count": null,
      "outputs": []
    },
    {
      "cell_type": "code",
      "source": [
        "!git clone https://github.com/oteroparrar/telegram_colab.git"
      ],
      "metadata": {
        "id": "lrW0f0u3uOpI"
      },
      "execution_count": null,
      "outputs": []
    },
    {
      "cell_type": "code",
      "execution_count": null,
      "metadata": {
        "id": "-scDJQoLm5HO"
      },
      "outputs": [],
      "source": [
        "!pip install openai telebot python-decouple"
      ]
    },
    {
      "cell_type": "code",
      "source": [
        "!python3  /content/telegram_colab/init.py"
      ],
      "metadata": {
        "id": "HRJPrECPuHPA"
      },
      "execution_count": null,
      "outputs": []
    },
    {
      "cell_type": "code",
      "source": [
        "!python3 /content/telegram_colab/main.py"
      ],
      "metadata": {
        "id": "Yw9-ElVtoi4B"
      },
      "execution_count": null,
      "outputs": []
    }
  ]
}
